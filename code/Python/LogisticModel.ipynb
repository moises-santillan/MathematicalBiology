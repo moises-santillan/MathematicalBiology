{
 "cells": [
  {
   "cell_type": "code",
   "execution_count": null,
   "metadata": {},
   "outputs": [],
   "source": [
    "import numpy as np\n",
    "import matplotlib.pyplot as plt\n",
    "from scipy.integrate import odeint"
   ]
  },
  {
   "cell_type": "code",
   "execution_count": null,
   "metadata": {},
   "outputs": [],
   "source": [
    "def LogisticEquation(t, N0, r, K):\n",
    "    return 1/(1/K + (1/N0 - 1/K)*np.exp(-r*t))"
   ]
  },
  {
   "cell_type": "code",
   "execution_count": null,
   "metadata": {},
   "outputs": [],
   "source": [
    "t = np.linspace(0, 20, 1000)\n",
    "r = 1\n",
    "K = 10000\n",
    "\n",
    "N0 = 10\n",
    "plt.plot(t, LogisticEquation(t, N0, r, K), label=r'$N_0 = 10$')\n",
    "\n",
    "N0 = 1000\n",
    "plt.plot(t, LogisticEquation(t, N0, r, K), label=r'$N_0 = 10^3$')\n",
    "\n",
    "N0 = 4000\n",
    "plt.plot(t, LogisticEquation(t, N0, r, K), label=r'$N_0 = 4 \\times 10^3$')\n",
    "\n",
    "N0 = 7000\n",
    "plt.plot(t, LogisticEquation(t, N0, r, K), label=r'$N_0 = 7 \\times 10^3$')\n",
    "\n",
    "N0 = 12000\n",
    "plt.plot(t, LogisticEquation(t, N0, r, K), label=r'$N_0 = 1.2 \\times 10^4$')\n",
    "\n",
    "N0 = 20000\n",
    "plt.plot(t, LogisticEquation(t, N0, r, K), label=r'$N_0 = 2 \\times 10^4$')\n",
    "\n",
    "plt.xlabel('t')\n",
    "plt.ylabel('N')\n",
    "plt.legend()\n",
    "\n",
    "# Save figure as PDF\n",
    "# plt.savefig('Fig01.pdf')"
   ]
  },
  {
   "cell_type": "code",
   "execution_count": null,
   "metadata": {},
   "outputs": [],
   "source": [
    "def LogisticModel(N, t, r, K):\n",
    "    return r * N * (1 - N/K)"
   ]
  },
  {
   "cell_type": "code",
   "execution_count": null,
   "metadata": {},
   "outputs": [],
   "source": [
    "t = np.linspace(0, 20, 1000)\n",
    "r = 1\n",
    "K = 10000\n",
    "\n",
    "N0 = 10\n",
    "sol = odeint(LogisticModel, N0, t, args=(r, K))\n",
    "plt.plot(t, sol)\n",
    "plt.plot(t, LogisticEquation(t, N0, r, K), ls='--')\n",
    "plt.xlabel('t')\n",
    "plt.ylabel('N')"
   ]
  }
 ],
 "metadata": {
  "language_info": {
   "name": "python"
  },
  "orig_nbformat": 4
 },
 "nbformat": 4,
 "nbformat_minor": 2
}
